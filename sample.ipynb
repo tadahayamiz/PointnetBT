{
 "cells": [
  {
   "cell_type": "markdown",
   "metadata": {},
   "source": [
    "# How to use\n",
    "Assuming utilization of Google Colaboratory"
   ]
  },
  {
   "cell_type": "code",
   "execution_count": null,
   "metadata": {},
   "outputs": [],
   "source": [
    "# Install the module from GitHub\n",
    "!pip install git+https://github.com/tadahayamiz/InhouseViT.git --force-reinstall"
   ]
  },
  {
   "cell_type": "code",
   "execution_count": null,
   "metadata": {},
   "outputs": [],
   "source": [
    "from ihvit import ihvit\n",
    "\n",
    "config_path = \"{path for config.yaml}}\"\n",
    "input_path = \"{path for the directory containing images}\"\n",
    "# Note that the module utilizes ImageFolder from torchvision.datasets\n",
    "\n",
    "# Generate an instance\n",
    "dat = ihvit.IhVit(config_path)\n",
    "\n",
    "# data loader preparation\n",
    "train_loader, test_loader, classes = dat.prep_data(\n",
    "    input_path=input_path,\n",
    ")\n",
    "\n",
    "# check image\n",
    "dat.check_images(indices=[0, 1, 2, 3, 5], nrow=2, ncol=3)"
   ]
  },
  {
   "cell_type": "code",
   "execution_count": null,
   "metadata": {},
   "outputs": [],
   "source": [
    "# model training\n",
    "dat.fit(train_loader, test_loader, classes)\n",
    "\n",
    "# visualize attentions\n",
    "dat.get_attention(indices=[0, 1, 2, 3, 5], nrow=2, ncol=3)"
   ]
  }
 ],
 "metadata": {
  "kernelspec": {
   "display_name": "Python 3",
   "language": "python",
   "name": "python3"
  },
  "language_info": {
   "name": "python",
   "version": "3.11.1"
  },
  "orig_nbformat": 4
 },
 "nbformat": 4,
 "nbformat_minor": 2
}
